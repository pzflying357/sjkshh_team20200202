{
 "cells": [
  {
   "cell_type": "code",
   "execution_count": 2,
   "metadata": {},
   "outputs": [
    {
     "name": "stdout",
     "output_type": "stream",
     "text": [
      "                            房型     价格                 小区  面积（㎡）  建造年份     户型  \\\n",
      "0     大华电梯两房/房型正气/开门南北通/房东诚意出售  76531  大华锦绣华城(十六街区)(公寓)   90.16  2010  2室2厅    \n",
      "1  非底楼 满五年唯一 税费少 婚房装修 楼称佳 户型方正  52290               芳雅苑   63.11  1995  2室1厅    \n",
      "2  满五唯一+7号线锦绣路+复式房+带阁楼+小区央位+精装  62878               锦博苑   79.52  2007  2室2厅    \n",
      "3     13号线陈春路地铁400米中间楼层诚意卖看房方便  45866              鹏海小区   71.95  1997  2室1厅    \n",
      "4    朝阳正气一房，采光好，坐看花园，户型方正，看房方便  83942            万邦都市花园   54.80  2004  1室1厅    \n",
      "\n",
      "    朝向  装修类型           楼层  区域  \n",
      "0   南    简装    中楼层(共18层)   浦东  \n",
      "1   南    精装     低楼层(共6层)   浦东  \n",
      "2   南    精装     高楼层(共6层)   浦东  \n",
      "3   南    简装     中楼层(共6层)   浦东  \n",
      "4   南    简装    中楼层(共11层)   浦东  \n",
      "          区域平均价格\n",
      "区域              \n",
      "金山  19304.818824\n",
      "奉贤  23662.131268\n",
      "松江  36461.715479\n",
      "嘉定  36587.687199\n",
      "青浦  37078.860149\n"
     ]
    },
    {
     "data": {
      "text/plain": [
       "'D:\\\\pystudy\\\\数据可视化小组\\\\map_stock_gs_count.html'"
      ]
     },
     "execution_count": 2,
     "metadata": {},
     "output_type": "execute_result"
    }
   ],
   "source": [
    "# -*- coding: utf-8 -*-\n",
    "import numpy as np\n",
    "import pandas as pd\n",
    "from pyecharts.charts import Map,Geo\n",
    "from pyecharts import options as opts\n",
    "import tushare as ts\n",
    "\n",
    "#ex1\n",
    "f=open('D:/pystudy/数据可视化小组/task_4_lianjia_sale.csv',encoding='utf-8')\n",
    "lianjia_saledata = pd.read_csv(f)\n",
    "\n",
    "f.close\n",
    "\n",
    "print(lianjia_saledata.head())\n",
    "fy_avg = [('区域平均价格','mean')]\n",
    "df1 = lianjia_saledata.groupby('区域')['价格'].agg(fy_avg)\n",
    "\n",
    "df_avg=df1.sort_values(by=\"区域平均价格\")\n",
    "print(df_avg.head())\n",
    "\n",
    "x=df_avg.index.values.tolist()\n",
    "\n",
    "y=df_avg['区域平均价格'].values.tolist()\n",
    "y1 = [int(i) for i in y]\n",
    "\n",
    "districts = ['金山区', '奉贤区', '嘉定区', '松江区', '青浦区', '宝山区', '闵行区', '浦东新区', '普陀区', '杨浦区', '虹口区', '长宁区', '静安区', '徐汇区', '黄浦区']\n",
    "list1 = [[districts[i],y1[i]] for i in range(len(districts))]\n",
    "#print(list1)\n",
    "map_1 = Map()\n",
    "map_1.set_global_opts(\n",
    "    title_opts=opts.TitleOpts(title=\"上海各个区的房屋均价\"),\n",
    "    visualmap_opts=opts.VisualMapOpts(max_=100000)  #最大数据范围\n",
    "    )\n",
    "map_1.add(\"上海各个区的房屋均价\", list1, maptype=\"上海\")\n",
    "map_1.render('map_sh_fj.html')\n",
    "\n",
    "#ex2\n",
    "df_stock=ts.get_stock_basics()\n",
    "df_stock.to_csv('basic.csv')\n",
    "gs_count = [('公司数量','count')]\n",
    "df_count = df_stock.groupby('area')['name'].agg(gs_count)\n",
    "\n",
    "x=df_count.index.values.tolist()\n",
    "y=df_count['公司数量'].values.tolist()\n",
    "list1 = [[x[i],y[i]] for i in range(len(x))]\n",
    "#print(df2.head())\n",
    "map_2 = Map()\n",
    "map_2.set_global_opts(\n",
    "    title_opts=opts.TitleOpts(title=\"A股各省市公司数量分布图\"),\n",
    "    visualmap_opts=opts.VisualMapOpts(max_=500)  #最大数据范围\n",
    "    )\n",
    "map_2.add(\"A股各省市公司数量分布图\", list1, maptype=\"china\")\n",
    "map_2.render('map_stock_gs_count.html')"
   ]
  },
  {
   "cell_type": "code",
   "execution_count": null,
   "metadata": {},
   "outputs": [],
   "source": []
  }
 ],
 "metadata": {
  "kernelspec": {
   "display_name": "Python 3",
   "language": "python",
   "name": "python3"
  },
  "language_info": {
   "codemirror_mode": {
    "name": "ipython",
    "version": 3
   },
   "file_extension": ".py",
   "mimetype": "text/x-python",
   "name": "python",
   "nbconvert_exporter": "python",
   "pygments_lexer": "ipython3",
   "version": "3.7.4"
  },
  "pycharm": {
   "stem_cell": {
    "cell_type": "raw",
    "metadata": {
     "collapsed": false
    },
    "source": []
   }
  }
 },
 "nbformat": 4,
 "nbformat_minor": 2
}
