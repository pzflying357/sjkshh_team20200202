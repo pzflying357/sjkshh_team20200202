{
 "cells": [
  {
   "cell_type": "code",
   "execution_count": 3,
   "metadata": {},
   "outputs": [
    {
     "output_type": "stream",
     "name": "stdout",
     "text": "open     high    close      low    volume  price_change  \\\ndate                                                                     \n2020-02-18  1090.01  1096.88  1084.00  1083.00  26664.96         -9.82   \n2020-02-17  1082.50  1096.19  1093.82  1082.40  27028.22          5.82   \n2020-02-14  1090.45  1093.51  1088.00  1083.11  23287.60         -3.00   \n2020-02-13  1098.00  1113.89  1091.00  1088.01  30357.36         -6.27   \n2020-02-12  1089.00  1098.79  1097.27  1085.88  28125.43         -0.73   \n\n            p_change       ma5      ma10      ma20     v_ma5    v_ma10  \\\ndate                                                                     \n2020-02-18     -0.90  1090.818  1081.557  1079.307  27092.71  33978.31   \n2020-02-17      0.54  1093.618  1076.958  1081.321  31343.31  37574.23   \n2020-02-14     -0.28  1088.152  1067.968  1082.255  32044.35  47215.70   \n2020-02-13     -0.57  1085.752  1064.448  1082.990  33642.57  50233.78   \n2020-02-12     -0.07  1081.752  1062.899  1082.847  37005.34  50818.05   \n\n              v_ma20  \ndate                  \n2020-02-18  39581.11  \n2020-02-17  40173.65  \n2020-02-14  40621.03  \n2020-02-13  41326.94  \n2020-02-12  41059.49  \n"
    },
    {
     "output_type": "execute_result",
     "data": {
      "text/plain": "<pyecharts.render.display.HTML at 0x22c5e34bf48>",
      "text/html": "<!DOCTYPE html>\n<html>\n<head>\n    <meta charset=\"UTF-8\">\n</head>\n<body>\n        <div id=\"72e3fd16fecf4e4c8094393eea6c4773\" class=\"chart-container\" style=\"width:900px; height:500px;\"></div>\n    <script>\n        var chart_72e3fd16fecf4e4c8094393eea6c4773 = echarts.init(\n            document.getElementById('72e3fd16fecf4e4c8094393eea6c4773'), 'white', {renderer: 'canvas'});\n        var option_72e3fd16fecf4e4c8094393eea6c4773 = {\n    \"animation\": true,\n    \"animationThreshold\": 2000,\n    \"animationDuration\": 1000,\n    \"animationEasing\": \"cubicOut\",\n    \"animationDelay\": 0,\n    \"animationDurationUpdate\": 300,\n    \"animationEasingUpdate\": \"cubicOut\",\n    \"animationDelayUpdate\": 0,\n    \"color\": [\n        \"#c23531\",\n        \"#2f4554\",\n        \"#61a0a8\",\n        \"#d48265\",\n        \"#749f83\",\n        \"#ca8622\",\n        \"#bda29a\",\n        \"#6e7074\",\n        \"#546570\",\n        \"#c4ccd3\",\n        \"#f05b72\",\n        \"#ef5b9c\",\n        \"#f47920\",\n        \"#905a3d\",\n        \"#fab27b\",\n        \"#2a5caa\",\n        \"#444693\",\n        \"#726930\",\n        \"#b2d235\",\n        \"#6d8346\",\n        \"#ac6767\",\n        \"#1d953f\",\n        \"#6950a1\",\n        \"#918597\"\n    ],\n    \"series\": [\n        {\n            \"type\": \"line\",\n            \"name\": \"\\u5f53\\u65e5\\u6700\\u9ad8\\u80a1\\u4ef7\",\n            \"connectNulls\": false,\n            \"symbolSize\": 4,\n            \"showSymbol\": true,\n            \"smooth\": false,\n            \"step\": false,\n            \"data\": [\n                [\n                    \"2020-01-17\",\n                    1096.88\n                ],\n                [\n                    \"2020-01-20\",\n                    1096.19\n                ],\n                [\n                    \"2020-01-21\",\n                    1093.51\n                ],\n                [\n                    \"2020-01-22\",\n                    1113.89\n                ],\n                [\n                    \"2020-01-23\",\n                    1098.79\n                ],\n                [\n                    \"2020-02-03\",\n                    1099.68\n                ],\n                [\n                    \"2020-02-04\",\n                    1074.6\n                ],\n                [\n                    \"2020-02-05\",\n                    1077.0\n                ],\n                [\n                    \"2020-02-06\",\n                    1075.0\n                ],\n                [\n                    \"2020-02-07\",\n                    1054.0\n                ],\n                [\n                    \"2020-02-10\",\n                    1057.0\n                ],\n                [\n                    \"2020-02-11\",\n                    1010.68\n                ],\n                [\n                    \"2020-02-12\",\n                    1076.0\n                ],\n                [\n                    \"2020-02-13\",\n                    1084.0\n                ],\n                [\n                    \"2020-02-14\",\n                    1087.0\n                ],\n                [\n                    \"2020-02-17\",\n                    1111.86\n                ],\n                [\n                    \"2020-02-18\",\n                    1112.78\n                ]\n            ],\n            \"hoverAnimation\": true,\n            \"label\": {\n                \"show\": true,\n                \"position\": \"top\",\n                \"margin\": 8\n            },\n            \"lineStyle\": {\n                \"width\": 1,\n                \"opacity\": 1,\n                \"curveness\": 0,\n                \"type\": \"solid\"\n            },\n            \"areaStyle\": {\n                \"opacity\": 0\n            },\n            \"zlevel\": 0,\n            \"z\": 0\n        },\n        {\n            \"type\": \"line\",\n            \"name\": \"\\u5f53\\u65e5\\u6700\\u4f4e\\u80a1\\u4ef7\",\n            \"connectNulls\": false,\n            \"symbolSize\": 4,\n            \"showSymbol\": true,\n            \"smooth\": false,\n            \"step\": false,\n            \"data\": [\n                [\n                    \"2020-01-17\",\n                    1083.0\n                ],\n                [\n                    \"2020-01-20\",\n                    1082.4\n                ],\n                [\n                    \"2020-01-21\",\n                    1083.11\n                ],\n                [\n                    \"2020-01-22\",\n                    1088.01\n                ],\n                [\n                    \"2020-01-23\",\n                    1085.88\n                ],\n                [\n                    \"2020-02-03\",\n                    1062.8\n                ],\n                [\n                    \"2020-02-04\",\n                    1057.2\n                ],\n                [\n                    \"2020-02-05\",\n                    1061.02\n                ],\n                [\n                    \"2020-02-06\",\n                    1052.02\n                ],\n                [\n                    \"2020-02-07\",\n                    1033.03\n                ],\n                [\n                    \"2020-02-10\",\n                    1011.01\n                ],\n                [\n                    \"2020-02-11\",\n                    980.0\n                ],\n                [\n                    \"2020-02-12\",\n                    1037.0\n                ],\n                [\n                    \"2020-02-13\",\n                    1055.38\n                ],\n                [\n                    \"2020-02-14\",\n                    1072.3\n                ],\n                [\n                    \"2020-02-17\",\n                    1082.0\n                ],\n                [\n                    \"2020-02-18\",\n                    1101.01\n                ]\n            ],\n            \"hoverAnimation\": true,\n            \"label\": {\n                \"show\": true,\n                \"position\": \"top\",\n                \"margin\": 8\n            },\n            \"lineStyle\": {\n                \"width\": 1,\n                \"opacity\": 1,\n                \"curveness\": 0,\n                \"type\": \"solid\"\n            },\n            \"areaStyle\": {\n                \"opacity\": 0\n            },\n            \"zlevel\": 0,\n            \"z\": 0\n        }\n    ],\n    \"legend\": [\n        {\n            \"data\": [\n                \"\\u5f53\\u65e5\\u6700\\u9ad8\\u80a1\\u4ef7\",\n                \"\\u5f53\\u65e5\\u6700\\u4f4e\\u80a1\\u4ef7\"\n            ],\n            \"selected\": {\n                \"\\u5f53\\u65e5\\u6700\\u9ad8\\u80a1\\u4ef7\": true,\n                \"\\u5f53\\u65e5\\u6700\\u4f4e\\u80a1\\u4ef7\": true\n            },\n            \"show\": true,\n            \"padding\": 5,\n            \"itemGap\": 10,\n            \"itemWidth\": 25,\n            \"itemHeight\": 14\n        }\n    ],\n    \"tooltip\": {\n        \"show\": true,\n        \"trigger\": \"item\",\n        \"triggerOn\": \"mousemove|click\",\n        \"axisPointer\": {\n            \"type\": \"line\"\n        },\n        \"textStyle\": {\n            \"fontSize\": 14\n        },\n        \"borderWidth\": 0\n    },\n    \"xAxis\": [\n        {\n            \"show\": true,\n            \"scale\": false,\n            \"nameLocation\": \"end\",\n            \"nameGap\": 15,\n            \"gridIndex\": 0,\n            \"axisLabel\": {\n                \"show\": true,\n                \"position\": \"top\",\n                \"rotate\": -40,\n                \"margin\": 8\n            },\n            \"inverse\": false,\n            \"offset\": 0,\n            \"splitNumber\": 5,\n            \"minInterval\": 0,\n            \"splitLine\": {\n                \"show\": false,\n                \"lineStyle\": {\n                    \"width\": 1,\n                    \"opacity\": 1,\n                    \"curveness\": 0,\n                    \"type\": \"solid\"\n                }\n            },\n            \"data\": [\n                \"2020-01-17\",\n                \"2020-01-20\",\n                \"2020-01-21\",\n                \"2020-01-22\",\n                \"2020-01-23\",\n                \"2020-02-03\",\n                \"2020-02-04\",\n                \"2020-02-05\",\n                \"2020-02-06\",\n                \"2020-02-07\",\n                \"2020-02-10\",\n                \"2020-02-11\",\n                \"2020-02-12\",\n                \"2020-02-13\",\n                \"2020-02-14\",\n                \"2020-02-17\",\n                \"2020-02-18\"\n            ]\n        }\n    ],\n    \"yAxis\": [\n        {\n            \"name\": \"\\uff08\\u5355\\u4f4d/\\u5143\\uff09\",\n            \"show\": true,\n            \"scale\": false,\n            \"nameLocation\": \"end\",\n            \"nameGap\": 15,\n            \"gridIndex\": 0,\n            \"inverse\": false,\n            \"offset\": 0,\n            \"splitNumber\": 5,\n            \"min\": 960,\n            \"max\": 1140,\n            \"minInterval\": 0,\n            \"splitLine\": {\n                \"show\": false,\n                \"lineStyle\": {\n                    \"width\": 1,\n                    \"opacity\": 1,\n                    \"curveness\": 0,\n                    \"type\": \"solid\"\n                }\n            }\n        }\n    ],\n    \"title\": [\n        {\n            \"text\": \"\\u8305\\u53f0\\u80a1\\u7968\\u8fd1\\u4e00\\u4e2a\\u6708\\u6700\\u9ad8\\u6700\\u4f4e\\u6298\\u7ebf\\u56fe\",\n            \"padding\": 5,\n            \"itemGap\": 10\n        }\n    ]\n};\n        chart_72e3fd16fecf4e4c8094393eea6c4773.setOption(option_72e3fd16fecf4e4c8094393eea6c4773);\n    </script>\n</body>\n</html>\n"
     },
     "metadata": {},
     "execution_count": 3
    }
   ],
   "source": [
    "\n",
    "# -*- coding: utf-8 -*-\n",
    "import numpy as np\n",
    "import pandas as pd\n",
    "from pyecharts.charts import Liquid, Page,Gauge,WordCloud,Line\n",
    "from pyecharts.globals import SymbolType,ThemeType\n",
    "from pyecharts import options as opts\n",
    "import tushare as ts\n",
    "\n",
    "df_stock=ts.get_stock_basics()\n",
    "df_stock.to_csv('basic0219.csv')\n",
    "l1=df_stock['gpr']\n",
    "l2=df_stock['npr']\n",
    "x1=l1.mean(axis = 0)\n",
    "x2=l2.mean(axis = 0)\n",
    "#print(x1,x2)\n",
    "c = (\n",
    "        Liquid()\n",
    "        .add(\"毛利率\", [round(x1/100,2), round(x1/100,2)],shape='rect',is_outline_show=False)\n",
    "        # 水球外形，有' circle', 'rect', 'roundRect', 'triangle', 'diamond', 'pin', 'arrow' 可选。\n",
    "        # 默认 'circle'。也可以为自定义的 SVG 路径。\n",
    "        #is_outline_show设置边框\n",
    "        .set_global_opts(title_opts=opts.TitleOpts(title=\"A股公司毛利率平均值示意图\"))\n",
    ")\n",
    "c.render_notebook()\n",
    "\n",
    "\n",
    "c = (\n",
    "    Gauge()\n",
    "    .add(\"\", [(\"A股平均净利率\", float('%.2f'%x1))])\n",
    "    .set_global_opts(title_opts=opts.TitleOpts(title=\"A股公司净利率平均值示意图\"))\n",
    ")\n",
    "c.render_notebook()\n",
    "\n",
    "\n",
    "#ex2\n",
    "gs_count = [('公司数量','count')]\n",
    "df_count = df_stock.groupby('industry')['name'].agg(gs_count)\n",
    "\n",
    "x=df_count.index.values.tolist()\n",
    "y=df_count['公司数量'].values.tolist()\n",
    "#list1 = [[x[i],y[i]] for i in range(len(x))]\n",
    "#print(df_count.head())\n",
    "data=[list(z) for z in zip(x,y)]\n",
    "#print(list1)\n",
    "c = (\n",
    "        WordCloud(init_opts=opts.InitOpts(theme=ThemeType.ROMANTIC))#设置风格\n",
    "        .add(\"\", data,shape='star')# shape设置词云图轮廓，有 'circle', 'cardioid', 'diamond', 'triangle-forward', 'triangle', 'pentagon', 'star' 可选\n",
    "        .set_global_opts(title_opts=opts.TitleOpts(title=\"A股不同行业公司数量云图\"))\n",
    ")\n",
    "c.render_notebook()\n",
    "\n",
    "#ex3\n",
    "\n",
    "df_mt = ts.get_hist_data('600519',start='2020-01-17',end='2020-02-19')\n",
    "df_mt.to_csv('mtgp.csv')\n",
    "print(df_mt.head())\n",
    "\n",
    "x=df_mt.index.values.tolist()\n",
    "x.sort()\n",
    "y1=df_mt['high'].values.tolist()\n",
    "y2=df_mt['low'].values.tolist()\n",
    "\n",
    "\n",
    "line=Line()\n",
    "line.add_xaxis(x) #设置x轴数据\n",
    "\n",
    "line.add_yaxis(\"当日最高股价\",y1,)#设置y轴数据\n",
    "line.add_yaxis(\"当日最低股价\",y2)#设置y轴数据\n",
    "line.set_global_opts(\n",
    "xaxis_opts=opts.AxisOpts(\n",
    "axislabel_opts=opts.LabelOpts(rotate=-40),\n",
    "),#设置x轴标签旋转角\n",
    "yaxis_opts=opts.AxisOpts(name=\"（单位/元）\",min_ = 960,max_=1140),#设置y轴\n",
    "\n",
    "title_opts=opts.TitleOpts(title=\"茅台股票近一个月最高最低折线图\")) #设置图表标题\n",
    "\n",
    "line.render_notebook() #渲染图表\n",
    "\n",
    "\n",
    "\n",
    "\n"
   ]
  },
  {
   "cell_type": "code",
   "execution_count": null,
   "metadata": {},
   "outputs": [],
   "source": []
  }
 ],
 "metadata": {
  "kernelspec": {
   "display_name": "Python 3.7.4 64-bit ('base': conda)",
   "language": "python",
   "name": "python37464bitbaseconda10bfc4186fdc4c9c9409b4ff82da50a7"
  },
  "language_info": {
   "codemirror_mode": {
    "name": "ipython",
    "version": 3
   },
   "file_extension": ".py",
   "mimetype": "text/x-python",
   "name": "python",
   "nbconvert_exporter": "python",
   "pygments_lexer": "ipython3",
   "version": "3.7.4-final"
  }
 },
 "nbformat": 4,
 "nbformat_minor": 2
}